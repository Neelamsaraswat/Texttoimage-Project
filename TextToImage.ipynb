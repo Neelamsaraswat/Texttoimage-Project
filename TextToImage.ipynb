{
  "cells": [
    {
      "cell_type": "markdown",
      "metadata": {
        "id": "view-in-github",
        "colab_type": "text"
      },
      "source": [
        "<a href=\"https://colab.research.google.com/github/Neelamsaraswat/Texttoimage-Project/blob/main/TextToImage.ipynb\" target=\"_parent\"><img src=\"https://colab.research.google.com/assets/colab-badge.svg\" alt=\"Open In Colab\"/></a>"
      ]
    },
    {
      "cell_type": "code",
      "execution_count": null,
      "metadata": {
        "id": "heDOOJ3RSQjr",
        "collapsed": true
      },
      "outputs": [],
      "source": [
        "import torch\n",
        "from diffusers import StableDiffusionPipeline\n",
        "from PIL import Image\n",
        "\n",
        "# Replace the model version with your required version if needed\n",
        "pipeline = StableDiffusionPipeline.from_pretrained(\n",
        "    \"stabilityai/stable-diffusion-2-1\", torch_dtype=torch.float16\n",
        ")\n",
        "\n",
        "# Running the inference on GPU with cuda enabled\n",
        "pipeline = pipeline.to('cuda')\n",
        "\n",
        "prompt = \"Photograph of a horse on a highway road at sunset.\"\n",
        "image = pipeline(prompt=prompt).images[0]\n"
      ]
    },
    {
      "cell_type": "code",
      "execution_count": null,
      "metadata": {
        "colab": {
          "background_save": true
        },
        "id": "1dn8pNk6SsCE"
      },
      "outputs": [],
      "source": [
        "from IPython.display import display\n",
        "display(image)"
      ]
    }
  ],
  "metadata": {
    "accelerator": "GPU",
    "colab": {
      "gpuType": "T4",
      "provenance": [],
      "authorship_tag": "ABX9TyPzPKKrU869AMkgRsJo9gyO",
      "include_colab_link": true
    },
    "kernelspec": {
      "display_name": "Python 3",
      "name": "python3"
    },
    "language_info": {
      "name": "python"
    }
  },
  "nbformat": 4,
  "nbformat_minor": 0
}